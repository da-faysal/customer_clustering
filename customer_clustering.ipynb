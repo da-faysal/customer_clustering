{
 "cells": [
  {
   "cell_type": "code",
   "execution_count": 1,
   "id": "621cb576",
   "metadata": {},
   "outputs": [],
   "source": [
    "import pandas as pd\n",
    "import matplotlib.pyplot as plt\n",
    "import numpy as np\n",
    "import datetime\n",
    "\n",
    "# Machine learning\n",
    "from sklearn.preprocessing import StandardScaler\n",
    "from sklearn.cluster import KMeans\n",
    "plt.style.use(\"ggplot\")"
   ]
  },
  {
   "cell_type": "code",
   "execution_count": 2,
   "id": "10406aab",
   "metadata": {},
   "outputs": [
    {
     "data": {
      "text/html": [
       "<div>\n",
       "<style scoped>\n",
       "    .dataframe tbody tr th:only-of-type {\n",
       "        vertical-align: middle;\n",
       "    }\n",
       "\n",
       "    .dataframe tbody tr th {\n",
       "        vertical-align: top;\n",
       "    }\n",
       "\n",
       "    .dataframe thead th {\n",
       "        text-align: right;\n",
       "    }\n",
       "</style>\n",
       "<table border=\"1\" class=\"dataframe\">\n",
       "  <thead>\n",
       "    <tr style=\"text-align: right;\">\n",
       "      <th></th>\n",
       "      <th>order_date</th>\n",
       "      <th>customer_id</th>\n",
       "      <th>revenue</th>\n",
       "      <th>quantity</th>\n",
       "    </tr>\n",
       "  </thead>\n",
       "  <tbody>\n",
       "    <tr>\n",
       "      <th>0</th>\n",
       "      <td>2020-05-11 21:27:00</td>\n",
       "      <td>3395</td>\n",
       "      <td>12.75</td>\n",
       "      <td>1.0</td>\n",
       "    </tr>\n",
       "    <tr>\n",
       "      <th>1</th>\n",
       "      <td>2020-05-11 21:27:00</td>\n",
       "      <td>3395</td>\n",
       "      <td>4.99</td>\n",
       "      <td>1.0</td>\n",
       "    </tr>\n",
       "    <tr>\n",
       "      <th>2</th>\n",
       "      <td>2020-04-23 22:51:11.998000</td>\n",
       "      <td>21313</td>\n",
       "      <td>21.25</td>\n",
       "      <td>1.0</td>\n",
       "    </tr>\n",
       "    <tr>\n",
       "      <th>3</th>\n",
       "      <td>2020-04-06 10:45:38.002000</td>\n",
       "      <td>9844</td>\n",
       "      <td>29.75</td>\n",
       "      <td>1.0</td>\n",
       "    </tr>\n",
       "    <tr>\n",
       "      <th>4</th>\n",
       "      <td>2020-04-06 10:45:38.002000</td>\n",
       "      <td>9844</td>\n",
       "      <td>9.99</td>\n",
       "      <td>1.0</td>\n",
       "    </tr>\n",
       "  </tbody>\n",
       "</table>\n",
       "</div>"
      ],
      "text/plain": [
       "                   order_date  customer_id  revenue  quantity\n",
       "0         2020-05-11 21:27:00         3395    12.75       1.0\n",
       "1         2020-05-11 21:27:00         3395     4.99       1.0\n",
       "2  2020-04-23 22:51:11.998000        21313    21.25       1.0\n",
       "3  2020-04-06 10:45:38.002000         9844    29.75       1.0\n",
       "4  2020-04-06 10:45:38.002000         9844     9.99       1.0"
      ]
     },
     "execution_count": 2,
     "metadata": {},
     "output_type": "execute_result"
    }
   ],
   "source": [
    "# Read in orders data\n",
    "df = pd.read_csv(\"4_columns_order_data.csv\")\n",
    "df.head()"
   ]
  },
  {
   "cell_type": "code",
   "execution_count": 3,
   "id": "b752d1d0",
   "metadata": {},
   "outputs": [
    {
     "data": {
      "text/plain": [
       "order_date      object\n",
       "customer_id      int64\n",
       "revenue        float64\n",
       "quantity       float64\n",
       "dtype: object"
      ]
     },
     "execution_count": 3,
     "metadata": {},
     "output_type": "execute_result"
    }
   ],
   "source": [
    "# Check data types\n",
    "df.dtypes"
   ]
  },
  {
   "cell_type": "code",
   "execution_count": 4,
   "id": "aae3c331",
   "metadata": {},
   "outputs": [
    {
     "data": {
      "text/html": [
       "<div>\n",
       "<style scoped>\n",
       "    .dataframe tbody tr th:only-of-type {\n",
       "        vertical-align: middle;\n",
       "    }\n",
       "\n",
       "    .dataframe tbody tr th {\n",
       "        vertical-align: top;\n",
       "    }\n",
       "\n",
       "    .dataframe thead th {\n",
       "        text-align: right;\n",
       "    }\n",
       "</style>\n",
       "<table border=\"1\" class=\"dataframe\">\n",
       "  <thead>\n",
       "    <tr style=\"text-align: right;\">\n",
       "      <th></th>\n",
       "      <th>order_date</th>\n",
       "      <th>customer_id</th>\n",
       "      <th>revenue</th>\n",
       "      <th>quantity</th>\n",
       "    </tr>\n",
       "  </thead>\n",
       "  <tbody>\n",
       "    <tr>\n",
       "      <th>0</th>\n",
       "      <td>2020-05-11</td>\n",
       "      <td>3395</td>\n",
       "      <td>12.75</td>\n",
       "      <td>1.0</td>\n",
       "    </tr>\n",
       "    <tr>\n",
       "      <th>1</th>\n",
       "      <td>2020-05-11</td>\n",
       "      <td>3395</td>\n",
       "      <td>4.99</td>\n",
       "      <td>1.0</td>\n",
       "    </tr>\n",
       "    <tr>\n",
       "      <th>2</th>\n",
       "      <td>2020-04-23</td>\n",
       "      <td>21313</td>\n",
       "      <td>21.25</td>\n",
       "      <td>1.0</td>\n",
       "    </tr>\n",
       "    <tr>\n",
       "      <th>3</th>\n",
       "      <td>2020-04-06</td>\n",
       "      <td>9844</td>\n",
       "      <td>29.75</td>\n",
       "      <td>1.0</td>\n",
       "    </tr>\n",
       "    <tr>\n",
       "      <th>4</th>\n",
       "      <td>2020-04-06</td>\n",
       "      <td>9844</td>\n",
       "      <td>9.99</td>\n",
       "      <td>1.0</td>\n",
       "    </tr>\n",
       "  </tbody>\n",
       "</table>\n",
       "</div>"
      ],
      "text/plain": [
       "  order_date  customer_id  revenue  quantity\n",
       "0 2020-05-11         3395    12.75       1.0\n",
       "1 2020-05-11         3395     4.99       1.0\n",
       "2 2020-04-23        21313    21.25       1.0\n",
       "3 2020-04-06         9844    29.75       1.0\n",
       "4 2020-04-06         9844     9.99       1.0"
      ]
     },
     "execution_count": 4,
     "metadata": {},
     "output_type": "execute_result"
    }
   ],
   "source": [
    "# Customer_id should be in int, and order_date should be in date format. Let's convert them\n",
    "df.order_date = pd.to_datetime(pd.to_datetime(df.order_date).dt.date)\n",
    "df.customer_id = df.customer_id.astype(\"int\")\n",
    "df.head()"
   ]
  },
  {
   "cell_type": "code",
   "execution_count": 5,
   "id": "c0c818af",
   "metadata": {},
   "outputs": [
    {
     "data": {
      "text/plain": [
       "order_date     datetime64[ns]\n",
       "customer_id             int64\n",
       "revenue               float64\n",
       "quantity              float64\n",
       "dtype: object"
      ]
     },
     "execution_count": 5,
     "metadata": {},
     "output_type": "execute_result"
    }
   ],
   "source": [
    "# Check data types again\n",
    "df.dtypes"
   ]
  },
  {
   "cell_type": "code",
   "execution_count": 6,
   "id": "5ba8c159",
   "metadata": {},
   "outputs": [
    {
     "data": {
      "text/plain": [
       "order_date      0\n",
       "customer_id     0\n",
       "revenue        75\n",
       "quantity       83\n",
       "dtype: int64"
      ]
     },
     "execution_count": 6,
     "metadata": {},
     "output_type": "execute_result"
    }
   ],
   "source": [
    "# Check for null values\n",
    "df.isna().sum()"
   ]
  },
  {
   "cell_type": "code",
   "execution_count": 7,
   "id": "4370f4de",
   "metadata": {},
   "outputs": [
    {
     "data": {
      "text/plain": [
       "order_date     0\n",
       "customer_id    0\n",
       "revenue        0\n",
       "quantity       0\n",
       "dtype: int64"
      ]
     },
     "execution_count": 7,
     "metadata": {},
     "output_type": "execute_result"
    }
   ],
   "source": [
    "# Drop rows with missing values\n",
    "df = df.dropna(subset=[\"revenue\", \"quantity\"])\n",
    "\n",
    "# Now check again to see if the nulls are removed\n",
    "df.isna().sum()"
   ]
  },
  {
   "cell_type": "code",
   "execution_count": 8,
   "id": "0a07e0b2",
   "metadata": {},
   "outputs": [
    {
     "data": {
      "text/html": [
       "<div>\n",
       "<style scoped>\n",
       "    .dataframe tbody tr th:only-of-type {\n",
       "        vertical-align: middle;\n",
       "    }\n",
       "\n",
       "    .dataframe tbody tr th {\n",
       "        vertical-align: top;\n",
       "    }\n",
       "\n",
       "    .dataframe thead th {\n",
       "        text-align: right;\n",
       "    }\n",
       "</style>\n",
       "<table border=\"1\" class=\"dataframe\">\n",
       "  <thead>\n",
       "    <tr style=\"text-align: right;\">\n",
       "      <th></th>\n",
       "      <th>order_date</th>\n",
       "      <th>customer_id</th>\n",
       "      <th>revenue</th>\n",
       "      <th>quantity</th>\n",
       "    </tr>\n",
       "  </thead>\n",
       "  <tbody>\n",
       "  </tbody>\n",
       "</table>\n",
       "</div>"
      ],
      "text/plain": [
       "Empty DataFrame\n",
       "Columns: [order_date, customer_id, revenue, quantity]\n",
       "Index: []"
      ]
     },
     "execution_count": 8,
     "metadata": {},
     "output_type": "execute_result"
    }
   ],
   "source": [
    "# Check for -ve values if any\n",
    "df[(df.quantity<0) | (df.revenue<0)]"
   ]
  },
  {
   "cell_type": "code",
   "execution_count": 9,
   "id": "10dc8519",
   "metadata": {},
   "outputs": [
    {
     "data": {
      "text/html": [
       "<div>\n",
       "<style scoped>\n",
       "    .dataframe tbody tr th:only-of-type {\n",
       "        vertical-align: middle;\n",
       "    }\n",
       "\n",
       "    .dataframe tbody tr th {\n",
       "        vertical-align: top;\n",
       "    }\n",
       "\n",
       "    .dataframe thead th {\n",
       "        text-align: right;\n",
       "    }\n",
       "</style>\n",
       "<table border=\"1\" class=\"dataframe\">\n",
       "  <thead>\n",
       "    <tr style=\"text-align: right;\">\n",
       "      <th></th>\n",
       "      <th>customer_id</th>\n",
       "      <th>revenue</th>\n",
       "      <th>quantity</th>\n",
       "    </tr>\n",
       "  </thead>\n",
       "  <tbody>\n",
       "    <tr>\n",
       "      <th>count</th>\n",
       "      <td>76445.000000</td>\n",
       "      <td>76445.000000</td>\n",
       "      <td>76445.000000</td>\n",
       "    </tr>\n",
       "    <tr>\n",
       "      <th>mean</th>\n",
       "      <td>10540.472549</td>\n",
       "      <td>12.284927</td>\n",
       "      <td>1.078148</td>\n",
       "    </tr>\n",
       "    <tr>\n",
       "      <th>std</th>\n",
       "      <td>9147.664410</td>\n",
       "      <td>22.926256</td>\n",
       "      <td>0.482398</td>\n",
       "    </tr>\n",
       "    <tr>\n",
       "      <th>min</th>\n",
       "      <td>1.000000</td>\n",
       "      <td>0.000000</td>\n",
       "      <td>1.000000</td>\n",
       "    </tr>\n",
       "    <tr>\n",
       "      <th>25%</th>\n",
       "      <td>2440.000000</td>\n",
       "      <td>4.990000</td>\n",
       "      <td>1.000000</td>\n",
       "    </tr>\n",
       "    <tr>\n",
       "      <th>50%</th>\n",
       "      <td>7848.000000</td>\n",
       "      <td>9.990000</td>\n",
       "      <td>1.000000</td>\n",
       "    </tr>\n",
       "    <tr>\n",
       "      <th>75%</th>\n",
       "      <td>17331.000000</td>\n",
       "      <td>12.990000</td>\n",
       "      <td>1.000000</td>\n",
       "    </tr>\n",
       "    <tr>\n",
       "      <th>max</th>\n",
       "      <td>32533.000000</td>\n",
       "      <td>1303.650000</td>\n",
       "      <td>19.000000</td>\n",
       "    </tr>\n",
       "  </tbody>\n",
       "</table>\n",
       "</div>"
      ],
      "text/plain": [
       "        customer_id       revenue      quantity\n",
       "count  76445.000000  76445.000000  76445.000000\n",
       "mean   10540.472549     12.284927      1.078148\n",
       "std     9147.664410     22.926256      0.482398\n",
       "min        1.000000      0.000000      1.000000\n",
       "25%     2440.000000      4.990000      1.000000\n",
       "50%     7848.000000      9.990000      1.000000\n",
       "75%    17331.000000     12.990000      1.000000\n",
       "max    32533.000000   1303.650000     19.000000"
      ]
     },
     "execution_count": 9,
     "metadata": {},
     "output_type": "execute_result"
    }
   ],
   "source": [
    "# Calculate the summary stats\n",
    "df.describe()"
   ]
  },
  {
   "cell_type": "markdown",
   "id": "87855743",
   "metadata": {},
   "source": [
    "### RFM Analysis\n",
    "Here, you are going to perform following opertaions:\n",
    "\n",
    "**For Recency, Calculate the number of days between present date and date of last purchase each customer.**\n",
    "\n",
    "**For Frequency, Calculate the number of orders for each customer.**\n",
    "\n",
    "**For Monetary, Calculate sum of purchase price for each customer.**"
   ]
  },
  {
   "cell_type": "code",
   "execution_count": 10,
   "id": "15158a72",
   "metadata": {},
   "outputs": [
    {
     "data": {
      "text/html": [
       "<div>\n",
       "<style scoped>\n",
       "    .dataframe tbody tr th:only-of-type {\n",
       "        vertical-align: middle;\n",
       "    }\n",
       "\n",
       "    .dataframe tbody tr th {\n",
       "        vertical-align: top;\n",
       "    }\n",
       "\n",
       "    .dataframe thead th {\n",
       "        text-align: right;\n",
       "    }\n",
       "</style>\n",
       "<table border=\"1\" class=\"dataframe\">\n",
       "  <thead>\n",
       "    <tr style=\"text-align: right;\">\n",
       "      <th></th>\n",
       "      <th>recency</th>\n",
       "      <th>frequency</th>\n",
       "      <th>monetary</th>\n",
       "    </tr>\n",
       "    <tr>\n",
       "      <th>customer_id</th>\n",
       "      <th></th>\n",
       "      <th></th>\n",
       "      <th></th>\n",
       "    </tr>\n",
       "  </thead>\n",
       "  <tbody>\n",
       "    <tr>\n",
       "      <th>1</th>\n",
       "      <td>303</td>\n",
       "      <td>135.0</td>\n",
       "      <td>1141.62</td>\n",
       "    </tr>\n",
       "    <tr>\n",
       "      <th>2</th>\n",
       "      <td>348</td>\n",
       "      <td>80.0</td>\n",
       "      <td>840.23</td>\n",
       "    </tr>\n",
       "    <tr>\n",
       "      <th>3</th>\n",
       "      <td>319</td>\n",
       "      <td>48.0</td>\n",
       "      <td>416.32</td>\n",
       "    </tr>\n",
       "    <tr>\n",
       "      <th>4</th>\n",
       "      <td>374</td>\n",
       "      <td>47.0</td>\n",
       "      <td>296.43</td>\n",
       "    </tr>\n",
       "    <tr>\n",
       "      <th>5</th>\n",
       "      <td>317</td>\n",
       "      <td>46.0</td>\n",
       "      <td>349.08</td>\n",
       "    </tr>\n",
       "    <tr>\n",
       "      <th>6</th>\n",
       "      <td>301</td>\n",
       "      <td>43.0</td>\n",
       "      <td>408.94</td>\n",
       "    </tr>\n",
       "    <tr>\n",
       "      <th>7</th>\n",
       "      <td>404</td>\n",
       "      <td>42.0</td>\n",
       "      <td>722.90</td>\n",
       "    </tr>\n",
       "    <tr>\n",
       "      <th>8</th>\n",
       "      <td>666</td>\n",
       "      <td>40.0</td>\n",
       "      <td>493.85</td>\n",
       "    </tr>\n",
       "    <tr>\n",
       "      <th>9</th>\n",
       "      <td>303</td>\n",
       "      <td>39.0</td>\n",
       "      <td>246.77</td>\n",
       "    </tr>\n",
       "    <tr>\n",
       "      <th>10</th>\n",
       "      <td>355</td>\n",
       "      <td>39.0</td>\n",
       "      <td>0.00</td>\n",
       "    </tr>\n",
       "  </tbody>\n",
       "</table>\n",
       "</div>"
      ],
      "text/plain": [
       "             recency  frequency  monetary\n",
       "customer_id                              \n",
       "1                303      135.0   1141.62\n",
       "2                348       80.0    840.23\n",
       "3                319       48.0    416.32\n",
       "4                374       47.0    296.43\n",
       "5                317       46.0    349.08\n",
       "6                301       43.0    408.94\n",
       "7                404       42.0    722.90\n",
       "8                666       40.0    493.85\n",
       "9                303       39.0    246.77\n",
       "10               355       39.0      0.00"
      ]
     },
     "execution_count": 10,
     "metadata": {},
     "output_type": "execute_result"
    }
   ],
   "source": [
    "# Calculate rfm aggregated by customer_id\n",
    "rfm_df = df.groupby(\"customer_id\").agg({\"order_date\": lambda date: (datetime.datetime(2021,10,13) - date.max()).days,\n",
    "                                        \"quantity\": lambda quan: len(quan),\n",
    "                                        \"revenue\": lambda price: price.sum()})\n",
    "\n",
    "# Rename columns\n",
    "rfm_df.columns = [\"recency\", \"frequency\", \"monetary\"]\n",
    "rfm_df.head(10)"
   ]
  },
  {
   "cell_type": "code",
   "execution_count": 11,
   "id": "79c3b467",
   "metadata": {},
   "outputs": [
    {
     "data": {
      "text/html": [
       "<div>\n",
       "<style scoped>\n",
       "    .dataframe tbody tr th:only-of-type {\n",
       "        vertical-align: middle;\n",
       "    }\n",
       "\n",
       "    .dataframe tbody tr th {\n",
       "        vertical-align: top;\n",
       "    }\n",
       "\n",
       "    .dataframe thead th {\n",
       "        text-align: right;\n",
       "    }\n",
       "</style>\n",
       "<table border=\"1\" class=\"dataframe\">\n",
       "  <thead>\n",
       "    <tr style=\"text-align: right;\">\n",
       "      <th></th>\n",
       "      <th>recency_stats</th>\n",
       "    </tr>\n",
       "  </thead>\n",
       "  <tbody>\n",
       "    <tr>\n",
       "      <th>count</th>\n",
       "      <td>32532.000000</td>\n",
       "    </tr>\n",
       "    <tr>\n",
       "      <th>mean</th>\n",
       "      <td>485.655693</td>\n",
       "    </tr>\n",
       "    <tr>\n",
       "      <th>std</th>\n",
       "      <td>143.511542</td>\n",
       "    </tr>\n",
       "    <tr>\n",
       "      <th>min</th>\n",
       "      <td>280.000000</td>\n",
       "    </tr>\n",
       "    <tr>\n",
       "      <th>25%</th>\n",
       "      <td>369.000000</td>\n",
       "    </tr>\n",
       "    <tr>\n",
       "      <th>50%</th>\n",
       "      <td>472.000000</td>\n",
       "    </tr>\n",
       "    <tr>\n",
       "      <th>75%</th>\n",
       "      <td>558.000000</td>\n",
       "    </tr>\n",
       "    <tr>\n",
       "      <th>max</th>\n",
       "      <td>1016.000000</td>\n",
       "    </tr>\n",
       "  </tbody>\n",
       "</table>\n",
       "</div>"
      ],
      "text/plain": [
       "       recency_stats\n",
       "count   32532.000000\n",
       "mean      485.655693\n",
       "std       143.511542\n",
       "min       280.000000\n",
       "25%       369.000000\n",
       "50%       472.000000\n",
       "75%       558.000000\n",
       "max      1016.000000"
      ]
     },
     "execution_count": 11,
     "metadata": {},
     "output_type": "execute_result"
    }
   ],
   "source": [
    "# Summary stats of recency\n",
    "rfm_df.recency.describe().to_frame(name=\"recency_stats\")"
   ]
  },
  {
   "cell_type": "code",
   "execution_count": 12,
   "id": "3154c836",
   "metadata": {},
   "outputs": [
    {
     "data": {
      "text/html": [
       "<div>\n",
       "<style scoped>\n",
       "    .dataframe tbody tr th:only-of-type {\n",
       "        vertical-align: middle;\n",
       "    }\n",
       "\n",
       "    .dataframe tbody tr th {\n",
       "        vertical-align: top;\n",
       "    }\n",
       "\n",
       "    .dataframe thead th {\n",
       "        text-align: right;\n",
       "    }\n",
       "</style>\n",
       "<table border=\"1\" class=\"dataframe\">\n",
       "  <thead>\n",
       "    <tr style=\"text-align: right;\">\n",
       "      <th></th>\n",
       "      <th>frequency_stats</th>\n",
       "    </tr>\n",
       "  </thead>\n",
       "  <tbody>\n",
       "    <tr>\n",
       "      <th>count</th>\n",
       "      <td>32532.000000</td>\n",
       "    </tr>\n",
       "    <tr>\n",
       "      <th>mean</th>\n",
       "      <td>2.349840</td>\n",
       "    </tr>\n",
       "    <tr>\n",
       "      <th>std</th>\n",
       "      <td>2.293807</td>\n",
       "    </tr>\n",
       "    <tr>\n",
       "      <th>min</th>\n",
       "      <td>1.000000</td>\n",
       "    </tr>\n",
       "    <tr>\n",
       "      <th>25%</th>\n",
       "      <td>1.000000</td>\n",
       "    </tr>\n",
       "    <tr>\n",
       "      <th>50%</th>\n",
       "      <td>2.000000</td>\n",
       "    </tr>\n",
       "    <tr>\n",
       "      <th>75%</th>\n",
       "      <td>2.000000</td>\n",
       "    </tr>\n",
       "    <tr>\n",
       "      <th>max</th>\n",
       "      <td>135.000000</td>\n",
       "    </tr>\n",
       "  </tbody>\n",
       "</table>\n",
       "</div>"
      ],
      "text/plain": [
       "       frequency_stats\n",
       "count     32532.000000\n",
       "mean          2.349840\n",
       "std           2.293807\n",
       "min           1.000000\n",
       "25%           1.000000\n",
       "50%           2.000000\n",
       "75%           2.000000\n",
       "max         135.000000"
      ]
     },
     "execution_count": 12,
     "metadata": {},
     "output_type": "execute_result"
    }
   ],
   "source": [
    "# Summary stats of frequency\n",
    "rfm_df.frequency.describe().to_frame(name=\"frequency_stats\")"
   ]
  },
  {
   "cell_type": "code",
   "execution_count": 13,
   "id": "f9266b64",
   "metadata": {},
   "outputs": [
    {
     "data": {
      "text/html": [
       "<div>\n",
       "<style scoped>\n",
       "    .dataframe tbody tr th:only-of-type {\n",
       "        vertical-align: middle;\n",
       "    }\n",
       "\n",
       "    .dataframe tbody tr th {\n",
       "        vertical-align: top;\n",
       "    }\n",
       "\n",
       "    .dataframe thead th {\n",
       "        text-align: right;\n",
       "    }\n",
       "</style>\n",
       "<table border=\"1\" class=\"dataframe\">\n",
       "  <thead>\n",
       "    <tr style=\"text-align: right;\">\n",
       "      <th></th>\n",
       "      <th>monetary_stats</th>\n",
       "    </tr>\n",
       "  </thead>\n",
       "  <tbody>\n",
       "    <tr>\n",
       "      <th>count</th>\n",
       "      <td>32532.000000</td>\n",
       "    </tr>\n",
       "    <tr>\n",
       "      <th>mean</th>\n",
       "      <td>28.867615</td>\n",
       "    </tr>\n",
       "    <tr>\n",
       "      <th>std</th>\n",
       "      <td>50.177717</td>\n",
       "    </tr>\n",
       "    <tr>\n",
       "      <th>min</th>\n",
       "      <td>0.000000</td>\n",
       "    </tr>\n",
       "    <tr>\n",
       "      <th>25%</th>\n",
       "      <td>12.600000</td>\n",
       "    </tr>\n",
       "    <tr>\n",
       "      <th>50%</th>\n",
       "      <td>20.620000</td>\n",
       "    </tr>\n",
       "    <tr>\n",
       "      <th>75%</th>\n",
       "      <td>31.240000</td>\n",
       "    </tr>\n",
       "    <tr>\n",
       "      <th>max</th>\n",
       "      <td>2666.230000</td>\n",
       "    </tr>\n",
       "  </tbody>\n",
       "</table>\n",
       "</div>"
      ],
      "text/plain": [
       "       monetary_stats\n",
       "count    32532.000000\n",
       "mean        28.867615\n",
       "std         50.177717\n",
       "min          0.000000\n",
       "25%         12.600000\n",
       "50%         20.620000\n",
       "75%         31.240000\n",
       "max       2666.230000"
      ]
     },
     "execution_count": 13,
     "metadata": {},
     "output_type": "execute_result"
    }
   ],
   "source": [
    "# Summary stats of revenue\n",
    "rfm_df.monetary.describe().to_frame(name=\"monetary_stats\")"
   ]
  },
  {
   "cell_type": "code",
   "execution_count": 14,
   "id": "60168952",
   "metadata": {},
   "outputs": [
    {
     "data": {
      "image/png": "[encoded data removed]",
      "text/plain": [
       "<Figure size 864x504 with 1 Axes>"
      ]
     },
     "metadata": {},
     "output_type": "display_data"
    }
   ],
   "source": [
    "# Plot distribution of recency\n",
    "fig, ax= plt.subplots(nrows=1, ncols=1, figsize=(12,7))\n",
    "rfm_df.recency.plot.hist(title=\"Recency Distrubution\", ax=ax)\n",
    "ax.set_xlabel(\"Recency\")\n",
    "plt.show()"
   ]
  },
  {
   "cell_type": "code",
   "execution_count": 15,
   "id": "bf1c74bc",
   "metadata": {},
   "outputs": [
    {
     "data": {
      "image/png": "[encoded data removed]",
      "text/plain": [
       "<Figure size 864x504 with 1 Axes>"
      ]
     },
     "metadata": {},
     "output_type": "display_data"
    }
   ],
   "source": [
    "# Plot distribution of frequencyall\n",
    "fig, ax= plt.subplots(nrows=1, ncols=1, figsize=(12,7))\n",
    "rfm_df.frequency.plot.hist(title=\"Frequency Distrubution\", ax=ax)\n",
    "ax.set_xlabel(\"Frequency\")\n",
    "plt.show()"
   ]
  },
  {
   "cell_type": "code",
   "execution_count": 16,
   "id": "89a8fd78",
   "metadata": {},
   "outputs": [
    {
     "data": {
      "image/png": "[encoded data removed]",
      "text/plain": [
       "<Figure size 864x504 with 1 Axes>"
      ]
     },
     "metadata": {},
     "output_type": "display_data"
    }
   ],
   "source": [
    "# Plot distribution of monetary\n",
    "fig, ax= plt.subplots(nrows=1, ncols=1, figsize=(12,7))\n",
    "rfm_df.monetary.plot.hist(title=\"Monetary Distrubution\", ax=ax)\n",
    "ax.set_xlabel(\"Monetary\")\n",
    "plt.show()"
   ]
  },
  {
   "cell_type": "markdown",
   "id": "6ea21f34",
   "metadata": {},
   "source": [
    "#### Variable standarization"
   ]
  },
  {
   "cell_type": "code",
   "execution_count": 17,
   "id": "1eeee8ca",
   "metadata": {},
   "outputs": [
    {
     "data": {
      "text/html": [
       "<div>\n",
       "<style scoped>\n",
       "    .dataframe tbody tr th:only-of-type {\n",
       "        vertical-align: middle;\n",
       "    }\n",
       "\n",
       "    .dataframe tbody tr th {\n",
       "        vertical-align: top;\n",
       "    }\n",
       "\n",
       "    .dataframe thead th {\n",
       "        text-align: right;\n",
       "    }\n",
       "</style>\n",
       "<table border=\"1\" class=\"dataframe\">\n",
       "  <thead>\n",
       "    <tr style=\"text-align: right;\">\n",
       "      <th></th>\n",
       "      <th>recency</th>\n",
       "      <th>frequency</th>\n",
       "      <th>monetary</th>\n",
       "    </tr>\n",
       "    <tr>\n",
       "      <th>customer_id</th>\n",
       "      <th></th>\n",
       "      <th></th>\n",
       "      <th></th>\n",
       "    </tr>\n",
       "  </thead>\n",
       "  <tbody>\n",
       "    <tr>\n",
       "      <th>1</th>\n",
       "      <td>-1.272779</td>\n",
       "      <td>57.830589</td>\n",
       "      <td>22.176567</td>\n",
       "    </tr>\n",
       "    <tr>\n",
       "      <th>2</th>\n",
       "      <td>-0.959211</td>\n",
       "      <td>33.852613</td>\n",
       "      <td>16.170023</td>\n",
       "    </tr>\n",
       "    <tr>\n",
       "      <th>3</th>\n",
       "      <td>-1.161288</td>\n",
       "      <td>19.901790</td>\n",
       "      <td>7.721721</td>\n",
       "    </tr>\n",
       "    <tr>\n",
       "      <th>4</th>\n",
       "      <td>-0.778038</td>\n",
       "      <td>19.465827</td>\n",
       "      <td>5.332377</td>\n",
       "    </tr>\n",
       "    <tr>\n",
       "      <th>5</th>\n",
       "      <td>-1.175225</td>\n",
       "      <td>19.029864</td>\n",
       "      <td>6.381664</td>\n",
       "    </tr>\n",
       "    <tr>\n",
       "      <th>6</th>\n",
       "      <td>-1.286716</td>\n",
       "      <td>17.721974</td>\n",
       "      <td>7.574642</td>\n",
       "    </tr>\n",
       "    <tr>\n",
       "      <th>7</th>\n",
       "      <td>-0.568992</td>\n",
       "      <td>17.286011</td>\n",
       "      <td>13.831699</td>\n",
       "    </tr>\n",
       "    <tr>\n",
       "      <th>8</th>\n",
       "      <td>1.256673</td>\n",
       "      <td>16.414085</td>\n",
       "      <td>9.266853</td>\n",
       "    </tr>\n",
       "    <tr>\n",
       "      <th>9</th>\n",
       "      <td>-1.272779</td>\n",
       "      <td>15.978121</td>\n",
       "      <td>4.342679</td>\n",
       "    </tr>\n",
       "    <tr>\n",
       "      <th>10</th>\n",
       "      <td>-0.910433</td>\n",
       "      <td>15.978121</td>\n",
       "      <td>-0.575316</td>\n",
       "    </tr>\n",
       "  </tbody>\n",
       "</table>\n",
       "</div>"
      ],
      "text/plain": [
       "              recency  frequency   monetary\n",
       "customer_id                                \n",
       "1           -1.272779  57.830589  22.176567\n",
       "2           -0.959211  33.852613  16.170023\n",
       "3           -1.161288  19.901790   7.721721\n",
       "4           -0.778038  19.465827   5.332377\n",
       "5           -1.175225  19.029864   6.381664\n",
       "6           -1.286716  17.721974   7.574642\n",
       "7           -0.568992  17.286011  13.831699\n",
       "8            1.256673  16.414085   9.266853\n",
       "9           -1.272779  15.978121   4.342679\n",
       "10          -0.910433  15.978121  -0.575316"
      ]
     },
     "execution_count": 17,
     "metadata": {},
     "output_type": "execute_result"
    }
   ],
   "source": [
    "# Variables standarization\n",
    "scaler = StandardScaler()\n",
    "scaled_arr = scaler.fit_transform(rfm_df)\n",
    "\n",
    "# Turn the scaled data back into a dataframe\n",
    "scaled_df = pd.DataFrame(data = scaled_arr, \n",
    "                                index = rfm_df.index, \n",
    "                                columns = rfm_df.columns) \n",
    "scaled_df.head(10)"
   ]
  },
  {
   "cell_type": "markdown",
   "id": "e98862f2",
   "metadata": {},
   "source": [
    "#### Finding the value of K using *elbow* method"
   ]
  },
  {
   "cell_type": "code",
   "execution_count": 18,
   "id": "4e45b3bd",
   "metadata": {},
   "outputs": [
    {
     "data": {
      "image/png": "[encoded data removed]",
      "text/plain": [
       "<Figure size 864x504 with 1 Axes>"
      ]
     },
     "metadata": {},
     "output_type": "display_data"
    }
   ],
   "source": [
    "# To store sum of squared errors\n",
    "sse = []\n",
    "for n in range(1, 11):\n",
    "    model = KMeans(n_clusters=n, random_state=3)\n",
    "    model.fit(scaled_df.values)\n",
    "    sse.append(model.inertia_)\n",
    "\n",
    "fig, ax = plt.subplots(ncols=1, nrows=1, figsize=(12,7))\n",
    "ax.plot(range(1, 11), sse)\n",
    "ax.set_xlabel(\"$K$\")\n",
    "ax.set_ylabel(\"Sum of Squared Error (SSE)\")\n",
    "ax.set_title(\"Optimum valoe of $K$ using elbow method\")\n",
    "plt.show()"
   ]
  },
  {
   "cell_type": "markdown",
   "id": "fc6b6151",
   "metadata": {},
   "source": [
    "#### We will use k=3 for the prediction"
   ]
  },
  {
   "cell_type": "markdown",
   "id": "a524b81e",
   "metadata": {},
   "source": [
    "### Biuld the clustering algorithm"
   ]
  },
  {
   "cell_type": "code",
   "execution_count": 19,
   "id": "956ad708",
   "metadata": {},
   "outputs": [],
   "source": [
    "# Initialize the model\n",
    "kmeans = KMeans(n_clusters = 3, random_state=1)\n",
    "\n",
    "# Compute k-means clustering on scaled data\n",
    "kmeans.fit(scaled_df)\n",
    "\n",
    "# Extract cluster labels from labels_ attribute\n",
    "cluster_labels = kmeans.labels_ "
   ]
  },
  {
   "cell_type": "code",
   "execution_count": 20,
   "id": "c884115e",
   "metadata": {},
   "outputs": [],
   "source": [
    "# Insert the cluster columns into the main data\n",
    "rfm_df[\"cluster\"] = cluster_labels"
   ]
  },
  {
   "cell_type": "markdown",
   "id": "e4123db5",
   "metadata": {},
   "source": [
    "##### Let’s do a bit of summary of the clusters we have just found out from the algorithm to understand the behavior of each subgroup we have just found out."
   ]
  },
  {
   "cell_type": "code",
   "execution_count": 21,
   "id": "e4f04797",
   "metadata": {},
   "outputs": [
    {
     "data": {
      "text/html": [
       "<div>\n",
       "<style scoped>\n",
       "    .dataframe tbody tr th:only-of-type {\n",
       "        vertical-align: middle;\n",
       "    }\n",
       "\n",
       "    .dataframe tbody tr th {\n",
       "        vertical-align: top;\n",
       "    }\n",
       "\n",
       "    .dataframe thead tr th {\n",
       "        text-align: left;\n",
       "    }\n",
       "\n",
       "    .dataframe thead tr:last-of-type th {\n",
       "        text-align: right;\n",
       "    }\n",
       "</style>\n",
       "<table border=\"1\" class=\"dataframe\">\n",
       "  <thead>\n",
       "    <tr>\n",
       "      <th></th>\n",
       "      <th>recency</th>\n",
       "      <th>frequency</th>\n",
       "      <th colspan=\"2\" halign=\"left\">monetary</th>\n",
       "    </tr>\n",
       "    <tr>\n",
       "      <th></th>\n",
       "      <th>mean</th>\n",
       "      <th>mean</th>\n",
       "      <th>mean</th>\n",
       "      <th>count</th>\n",
       "    </tr>\n",
       "    <tr>\n",
       "      <th>cluster</th>\n",
       "      <th></th>\n",
       "      <th></th>\n",
       "      <th></th>\n",
       "      <th></th>\n",
       "    </tr>\n",
       "  </thead>\n",
       "  <tbody>\n",
       "    <tr>\n",
       "      <th>0</th>\n",
       "      <td>620.911380</td>\n",
       "      <td>1.771638</td>\n",
       "      <td>21.338079</td>\n",
       "      <td>13067</td>\n",
       "    </tr>\n",
       "    <tr>\n",
       "      <th>1</th>\n",
       "      <td>393.476118</td>\n",
       "      <td>2.318249</td>\n",
       "      <td>24.777078</td>\n",
       "      <td>18319</td>\n",
       "    </tr>\n",
       "    <tr>\n",
       "      <th>2</th>\n",
       "      <td>416.939791</td>\n",
       "      <td>9.447644</td>\n",
       "      <td>180.109311</td>\n",
       "      <td>1146</td>\n",
       "    </tr>\n",
       "  </tbody>\n",
       "</table>\n",
       "</div>"
      ],
      "text/plain": [
       "            recency frequency    monetary       \n",
       "               mean      mean        mean  count\n",
       "cluster                                         \n",
       "0        620.911380  1.771638   21.338079  13067\n",
       "1        393.476118  2.318249   24.777078  18319\n",
       "2        416.939791  9.447644  180.109311   1146"
      ]
     },
     "execution_count": 21,
     "metadata": {},
     "output_type": "execute_result"
    }
   ],
   "source": [
    "# Final summarization\n",
    "summary = rfm_df.groupby([\"cluster\"]).agg({\n",
    "    \"recency\":\"mean\",\n",
    "    \"frequency\":\"mean\",\n",
    "    \"monetary\":[\"mean\", \"count\"]\n",
    "    })\n",
    "summary"
   ]
  },
  {
   "cell_type": "markdown",
   "id": "a6091fa8",
   "metadata": {},
   "source": [
    "#### Takeaway: From the table above, Cluster 2 is our most loyal customer.  They were at our websites 417 days ago and one agerage they visited our websites 9.45 times, while customers in Cluster 1 visited our websites only 2.31 times. And most importantly, Cluster 2 customers on average, have spent over 180 pounds."
   ]
  }
 ],
 "metadata": {
  "kernelspec": {
   "display_name": "Python 3",
   "language": "python",
   "name": "python3"
  },
  "language_info": {
   "codemirror_mode": {
    "name": "ipython",
    "version": 3
   },
   "file_extension": ".py",
   "mimetype": "text/x-python",
   "name": "python",
   "nbconvert_exporter": "python",
   "pygments_lexer": "ipython3",
   "version": "3.8.8"
  }
 },
 "nbformat": 4,
 "nbformat_minor": 5
}
